{
 "cells": [
  {
   "cell_type": "code",
   "execution_count": 167,
   "metadata": {},
   "outputs": [
    {
     "name": "stderr",
     "output_type": "stream",
     "text": [
      "Some weights of RobertaForQuestionAnswering were not initialized from the model checkpoint at nasa-impact/nasa-smd-ibm-v0.1 and are newly initialized: ['qa_outputs.bias', 'qa_outputs.weight']\n",
      "You should probably TRAIN this model on a down-stream task to be able to use it for predictions and inference.\n"
     ]
    }
   ],
   "source": [
    "from transformers import pipeline\n",
    "\n",
    "nasa_smd_pipeline = pipeline(\"question-answering\", model=\"nasa-impact/nasa-smd-ibm-v0.1\")"
   ]
  },
  {
   "cell_type": "code",
   "execution_count": 168,
   "metadata": {},
   "outputs": [
    {
     "name": "stderr",
     "output_type": "stream",
     "text": [
      "Some weights of BertForQuestionAnswering were not initialized from the model checkpoint at adsabs/astroBERT and are newly initialized: ['qa_outputs.bias', 'qa_outputs.weight']\n",
      "You should probably TRAIN this model on a down-stream task to be able to use it for predictions and inference.\n"
     ]
    }
   ],
   "source": [
    "astroBERT_pipeline = pipeline(\"question-answering\", model=\"adsabs/astroBERT\")"
   ]
  },
  {
   "cell_type": "code",
   "execution_count": 179,
   "metadata": {},
   "outputs": [
    {
     "name": "stderr",
     "output_type": "stream",
     "text": [
      "Using the latest cached version of the module from /Users/rajdangol/.cache/huggingface/modules/datasets_modules/datasets/squad/d6ec3ceb99ca480ce37cdd35555d6cb2511d223b9150cce08a837ef62ffea453 (last modified on Fri Dec 15 15:54:42 2023) since it couldn't be found locally at squad., or remotely on the Hugging Face Hub.\n"
     ]
    }
   ],
   "source": [
    "from datasets import load_dataset\n",
    "\n",
    "squad_datasets = load_dataset(\"squad\")\n",
    "squad_data = squad_datasets[\"train\"][50000:70000]"
   ]
  },
  {
   "cell_type": "code",
   "execution_count": 180,
   "metadata": {},
   "outputs": [],
   "source": [
    "from evaluate import load\n",
    "squad_metric = load(\"squad\")"
   ]
  },
  {
   "cell_type": "code",
   "execution_count": 181,
   "metadata": {},
   "outputs": [],
   "source": [
    "# nasa_result = nasa_smd_pipeline([dict(context=\"KU's School of Business launched interdisciplinary management science graduate studies in operations research during Fall Semester 1965. The program provided the foundation for decision science applications supporting NASA Project Apollo Command Capsule Recovery Operations.\", question=\"What NASA program benefited from the use of decision science applications?\"),\n",
    "#                                  dict(context=\"On October 21, 1959, Eisenhower approved the transfer of the Army's remaining space-related activities to NASA. On July 1, 1960, the Redstone Arsenal became NASA's George C. Marshall Space Flight Center, with von Braun as its first director. Development of the Saturn rocket family, which when mature, would finally give the US parity with the Soviets in terms of lifting capability, was thus transferred to NASA.\", question=\"The Redstone Arsenal became the George C. Marshall Space Flight Center when?\")])\n",
    "\n",
    "# nasa_result"
   ]
  },
  {
   "cell_type": "code",
   "execution_count": 182,
   "metadata": {},
   "outputs": [],
   "source": [
    "# Converts squad data to squad reference data format\n",
    "def convert_to_squad_reference_format(dataset):\n",
    "    reference_result = []\n",
    "    for i in range(len(dataset[\"context\"])):\n",
    "        reference_item = {\n",
    "            \"id\": dataset[\"id\"][i],\n",
    "            \"answers\": [{\"text\": ans, \"answer_start\": start} for ans, start in zip(dataset[\"answers\"][i][\"text\"], dataset[\"answers\"][i][\"answer_start\"])]\n",
    "        }\n",
    "        reference_result.append(reference_item)\n",
    "    return reference_result\n"
   ]
  },
  {
   "cell_type": "code",
   "execution_count": 190,
   "metadata": {},
   "outputs": [],
   "source": [
    "reference_data = convert_to_squad_reference_format(squad_data)\n",
    "# reference_data"
   ]
  },
  {
   "cell_type": "code",
   "execution_count": 184,
   "metadata": {},
   "outputs": [
    {
     "data": {
      "text/plain": [
       "20000"
      ]
     },
     "execution_count": 184,
     "metadata": {},
     "output_type": "execute_result"
    }
   ],
   "source": [
    "len(reference_data)"
   ]
  },
  {
   "cell_type": "code",
   "execution_count": 185,
   "metadata": {},
   "outputs": [],
   "source": [
    "# Converts squad dataset to question-context format\n",
    "def convert_to_question_context_format(dataset):\n",
    "    prediction_result = []\n",
    "    for i in range(len(dataset[\"context\"])):\n",
    "        item = {\n",
    "            \"context\": dataset[\"context\"][i],\n",
    "            \"question\": dataset[\"question\"][i],\n",
    "            # \"id\": dataset[\"id\"][i],\n",
    "            # \"title\": dataset[\"title\"][i],\n",
    "            # \"answers\": [{\"text\": ans, \"answer_start\": start} for ans, start in zip(dataset[\"answers\"][i][\"text\"], dataset[\"answers\"][i][\"answer_start\"])]\n",
    "        }\n",
    "        prediction_result.append(item)\n",
    "    return prediction_result"
   ]
  },
  {
   "cell_type": "code",
   "execution_count": 186,
   "metadata": {},
   "outputs": [],
   "source": [
    "# Converts pipeline's answer to squad prediction format\n",
    "def convert_to_prediction_format(prediction):\n",
    "    prediction_result = []\n",
    "    for item in prediction:\n",
    "        prediction_item = {\n",
    "            \"prediction_text\": item[\"answer\"],\n",
    "            \"id\": item[\"id\"]\n",
    "        }\n",
    "        prediction_result.append(prediction_item)\n",
    "    return prediction_result\n"
   ]
  },
  {
   "cell_type": "code",
   "execution_count": 187,
   "metadata": {},
   "outputs": [],
   "source": [
    "def apply_pipeline(pipeline, data):\n",
    "    data = convert_to_question_context_format(data)\n",
    "    prediction = pipeline(data)\n",
    "    for i,item in enumerate(prediction):\n",
    "        item['id'] = squad_data['id'][i]\n",
    "    prediction_result = convert_to_prediction_format(prediction)\n",
    "\n",
    "    return squad_metric.compute(predictions=prediction_result, references=reference_data)"
   ]
  },
  {
   "cell_type": "code",
   "execution_count": 188,
   "metadata": {},
   "outputs": [
    {
     "data": {
      "text/plain": [
       "{'exact_match': 0.12, 'f1': 4.92795707620676}"
      ]
     },
     "execution_count": 188,
     "metadata": {},
     "output_type": "execute_result"
    }
   ],
   "source": [
    "# Results from nasa-smd pipeline\n",
    "nasa_smd_result = apply_pipeline(nasa_smd_pipeline, squad_data)\n",
    "nasa_smd_result"
   ]
  },
  {
   "cell_type": "code",
   "execution_count": 189,
   "metadata": {},
   "outputs": [
    {
     "data": {
      "text/plain": [
       "{'exact_match': 0.45, 'f1': 4.977317915473823}"
      ]
     },
     "execution_count": 189,
     "metadata": {},
     "output_type": "execute_result"
    }
   ],
   "source": [
    "astroBERT_result = apply_pipeline(astroBERT_pipeline, squad_data)\n",
    "astroBERT_result"
   ]
  },
  {
   "cell_type": "code",
   "execution_count": null,
   "metadata": {},
   "outputs": [],
   "source": []
  }
 ],
 "metadata": {
  "kernelspec": {
   "display_name": "benchmarking",
   "language": "python",
   "name": "python3"
  },
  "language_info": {
   "codemirror_mode": {
    "name": "ipython",
    "version": 3
   },
   "file_extension": ".py",
   "mimetype": "text/x-python",
   "name": "python",
   "nbconvert_exporter": "python",
   "pygments_lexer": "ipython3",
   "version": "3.10.13"
  }
 },
 "nbformat": 4,
 "nbformat_minor": 2
}
